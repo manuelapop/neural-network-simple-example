{
  "nbformat": 4,
  "nbformat_minor": 0,
  "metadata": {
    "colab": {
      "provenance": [],
      "gpuType": "T4",
      "include_colab_link": true
    },
    "kernelspec": {
      "name": "python3",
      "display_name": "Python 3"
    },
    "language_info": {
      "name": "python"
    },
    "accelerator": "GPU"
  },
  "cells": [
    {
      "cell_type": "markdown",
      "metadata": {
        "id": "view-in-github",
        "colab_type": "text"
      },
      "source": [
        "<a href=\"https://colab.research.google.com/github/manuelapop/neural-network-simple-example/blob/main/neural-network-simple-example.ipynb\" target=\"_parent\"><img src=\"https://colab.research.google.com/assets/colab-badge.svg\" alt=\"Open In Colab\"/></a>"
      ]
    },
    {
      "cell_type": "code",
      "execution_count": 2,
      "metadata": {
        "id": "Kwy4oNWFCc26"
      },
      "outputs": [],
      "source": [
        "import torch\n",
        "import torch.nn as nn\n",
        "import torch.nn.functional as F"
      ]
    },
    {
      "cell_type": "code",
      "source": [
        "# Create a Model Class that inherits nn.Module, 2 neuron layers\n",
        "class Model(nn.Module):\n",
        "  # Input layer (4 features of the flower) -->\tsepal.length, sepal.width, petal.length, petal.width\n",
        "  # Hidden Layer1 (number of neurons) --> 8 neurons\n",
        "  # H2 (n) --> 9 neurons\n",
        "  # output (3 classes of iris flowers) Setosa, Versicolor, Virginica\n",
        "  def __init__(self, in_features=4, h1=8, h2=9, out_features=3):\n",
        "    super().__init__() # instantiate our nn.Module\n",
        "    self.fc1 = nn.Linear(in_features, h1) #fc - fully connected, first layer you add in features and push it to hidden layer 1\n",
        "    self.fc2 = nn.Linear(h1, h2) #hidden layer one push to hidden layer 2\n",
        "    self.out = nn.Linear(h2, out_features) #out hidden layer 2 to output\n",
        "\n",
        "  def forward(self, x): #forwarding function\n",
        "    x = F.relu(self.fc1(x)) #relu pushing fc1\n",
        "    x = F.relu(self.fc2(x)) #relu pushing fc2\n",
        "    x = self.out(x) #relu pushing output\n",
        "\n",
        "    return x\n"
      ],
      "metadata": {
        "id": "ns61rHbADdVe"
      },
      "execution_count": 3,
      "outputs": []
    },
    {
      "cell_type": "code",
      "source": [],
      "metadata": {
        "id": "lBvwIzpkF4PM"
      },
      "execution_count": null,
      "outputs": []
    }
  ]
}